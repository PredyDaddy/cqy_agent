{
 "cells": [
  {
   "cell_type": "markdown",
   "id": "10d3e7ce-6d1c-4d62-bda4-a064e1b0c1c5",
   "metadata": {},
   "source": [
    "## 为什么学习这个框架？\n",
    "1. 因为我听Peter说了，整个框架会用到多个大模型，peter有一套非常熟悉的理论，但是关于大模型的连接，这个地方我觉得非常的不好做，因为我之前确实把不同模态的模型串联起来过，但是我哪个时候的任务过于简单，基本上每次处理一条数据我就会把他清零，但是人形机器人的场景需要做到更好的管控用户的输入和输出，并且做到交互，就是输出反馈给输入，产生下一轮更好的提示词，这个东西目前网上比较好的框架是langchain。\n",
    "\n",
    "2. 如果我的工作是做大模型的胶水，那么langchain是最好的工具。"
   ]
  },
  {
   "cell_type": "markdown",
   "id": "f4d3e891-761a-47eb-b607-c605ebc42954",
   "metadata": {},
   "source": [
    "# Langchain基础"
   ]
  },
  {
   "cell_type": "markdown",
   "id": "809805b9-72cd-467a-b5ff-2b30f81f6d39",
   "metadata": {},
   "source": [
    "## 1. langchain\n",
    "- 主要充当的是胶水的过程，充当大模型和应用的一个工具\n",
    "- 想法，行动，反馈\n",
    "- 为了兼容各种大模型，langchain是没有大模型的\n",
    "\n",
    "## 2. 能力\n",
    "- 把N个不同模态的模型连接起来\n",
    "- 管控用户的输入和输出，把输入更好的输入给LLMS\n",
    "- 然后同时反馈给用户，然后更好的做这些东西\n",
    "\n",
    "## 3. 主要功能\n",
    "- 提示词功能\n",
    "- Chain链式功能\n",
    "- RAG\n",
    "- Agent\n",
    "- memory \n",
    "- 评估\n",
    "\n",
    "## 4. 优缺点\n",
    "- 多个模型的灵活度\n",
    "- 轻量的SDk\n",
    "- 多模态，图像，语言，音频\n",
    "- 没办法大型工业化生产\n",
    "\n",
    "\n",
    "\n",
    "\n",
    "\n",
    "\n",
    "\n",
    "\n",
    "\n",
    "\n",
    "\n",
    "\n",
    "\n",
    "\n",
    "\n",
    "\n",
    "\n",
    "\n",
    "\n",
    "\n",
    "\n",
    "\n",
    "\n",
    "\n",
    "\n",
    "\n",
    "\n",
    "\n",
    "\n",
    "\n",
    "\n",
    "\n",
    "\n",
    "\n",
    "\n",
    "\n",
    "\n",
    "\n",
    "\n",
    "\n",
    "\n",
    "\n",
    "\n",
    "\n"
   ]
  },
  {
   "cell_type": "markdown",
   "id": "97f57a99-a4d9-4086-8fea-686ad2fa7070",
   "metadata": {},
   "source": [
    "## 5. 环境搭建\n",
    "- 先安装pyenv\n",
    "- 试一下虚拟环境的jupyter-lab"
   ]
  },
  {
   "cell_type": "code",
   "execution_count": null,
   "id": "3f387425-d64c-4744-9497-901d86c61c82",
   "metadata": {},
   "outputs": [],
   "source": []
  },
  {
   "cell_type": "markdown",
   "id": "d46c711f-c328-4c65-8f5a-e9e95d8be3ba",
   "metadata": {},
   "source": [
    "## 6. 跑通第一个实例(代码)\n",
    "1. 创建大模型\n",
    "2. 去搞openai的API\n",
    "3. predict() 以及影响predict()的模板\n",
    "4. 提示词模板化\n",
    "5. 自定义的输出解释器(跟其他系统交互)\n",
    "6. temperature一定要是0"
   ]
  },
  {
   "cell_type": "code",
   "execution_count": null,
   "id": "0015222e-ecbd-4821-93b5-cbb634f000d6",
   "metadata": {},
   "outputs": [],
   "source": []
  },
  {
   "cell_type": "markdown",
   "id": "5217777e-31a7-4221-ac0d-5b9402ffc90e",
   "metadata": {},
   "source": [
    "# 提示词工程"
   ]
  },
  {
   "cell_type": "markdown",
   "id": "0f3cdeeb-108e-4a49-b388-c7e2a9d5367d",
   "metadata": {},
   "source": [
    "## 1. 模型IO\n",
    "- 输入模板化\n",
    "- predict处理两种模型，llm/chatmodel\n",
    "- 控制输出(格式化)\n",
    "\n",
    "## 2. 如何写好提示词\n",
    "- 需要示例，条件，约束条件\n",
    "- 提示词四大要素: 角色，问题，目标，要求\n",
    "\n"
   ]
  },
  {
   "cell_type": "markdown",
   "id": "42adbaa3-512e-487a-8b20-662ad373ce6e",
   "metadata": {},
   "source": [
    "## 3. 提示词模板(代码)\n",
    "- 字符串模板(LLM)\n",
    "- 对话模板(chatmodel): 前面回答的可以作为大模型的参考价值，他虽然只回答最后一条，但是确实是人为制造了一个上下文\n",
    "- schema(chatmodel): 直接放在list里面，方式会灵活很多\n",
    "- chatmessageprompttemplate多了一个rolse的格式"
   ]
  },
  {
   "cell_type": "code",
   "execution_count": null,
   "id": "021283af-98c5-4114-8810-28080a87f165",
   "metadata": {},
   "outputs": [],
   "source": []
  },
  {
   "cell_type": "markdown",
   "id": "850f2bfb-aec1-4f88-bcb4-e5822cab6b3c",
   "metadata": {},
   "source": [
    "## 4. Promopts自定义模板(代码)\n",
    "- "
   ]
  }
 ],
 "metadata": {
  "kernelspec": {
   "display_name": "Python 3 (ipykernel)",
   "language": "python",
   "name": "python3"
  },
  "language_info": {
   "codemirror_mode": {
    "name": "ipython",
    "version": 3
   },
   "file_extension": ".py",
   "mimetype": "text/x-python",
   "name": "python",
   "nbconvert_exporter": "python",
   "pygments_lexer": "ipython3",
   "version": "3.10.12"
  }
 },
 "nbformat": 4,
 "nbformat_minor": 5
}
